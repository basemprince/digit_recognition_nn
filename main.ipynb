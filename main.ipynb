{
 "cells": [
  {
   "cell_type": "code",
   "execution_count": 2,
   "metadata": {},
   "outputs": [],
   "source": [
    "import numpy as np\n",
    "import pandas as pd\n",
    "from matplotlib import pyplot as plt"
   ]
  },
  {
   "cell_type": "code",
   "execution_count": 3,
   "metadata": {},
   "outputs": [],
   "source": [
    "data = pd.read_csv('dataset/mnist_train.csv')"
   ]
  },
  {
   "cell_type": "code",
   "execution_count": 4,
   "metadata": {},
   "outputs": [
    {
     "name": "stdout",
     "output_type": "stream",
     "text": [
      "60000 785\n",
      "(1000,) (784, 1000)\n"
     ]
    }
   ],
   "source": [
    "data = np.array(data)\n",
    "m, n = data.shape\n",
    "print(m,n)\n",
    "np.random.shuffle(data)\n",
    "\n",
    "data_test = data[0:1000].T\n",
    "y_test = data_test[0]\n",
    "x_test = data_test[1:]/ 255\n",
    "print(y_test.shape,x_test.shape)"
   ]
  },
  {
   "cell_type": "code",
   "execution_count": 5,
   "metadata": {},
   "outputs": [
    {
     "name": "stdout",
     "output_type": "stream",
     "text": [
      "(59000,) (784, 59000)\n"
     ]
    }
   ],
   "source": [
    "data_train = data[1000:].T\n",
    "y_train = data_train[0]\n",
    "x_train = data_train[1:]/ 255\n",
    "print(y_train.shape,x_train.shape)"
   ]
  },
  {
   "cell_type": "code",
   "execution_count": 6,
   "metadata": {},
   "outputs": [],
   "source": [
    "def init_params(k,n):\n",
    "    W1 = np.random.rand(k,n)  - 0.5\n",
    "    b1 = np.random.rand(k,1)  - 0.5\n",
    "    W2 = np.random.rand(k,k)  - 0.5\n",
    "    b2 = np.random.rand(k,1)  - 0.5\n",
    "    return W1,b1,W2,b2"
   ]
  },
  {
   "cell_type": "code",
   "execution_count": 7,
   "metadata": {},
   "outputs": [],
   "source": [
    "def rectified_linear_unit(Z):\n",
    "    return np.maximum(Z,0)"
   ]
  },
  {
   "cell_type": "code",
   "execution_count": 8,
   "metadata": {},
   "outputs": [],
   "source": [
    "def relu_derivative(Z):\n",
    "    # returns true(1) if Z is +ve, false(0) if 0 or -ve\n",
    "    return Z > 0 "
   ]
  },
  {
   "cell_type": "code",
   "execution_count": 9,
   "metadata": {},
   "outputs": [],
   "source": [
    "def softmax(Z):\n",
    "    # e^zi / sum(e^zi)\n",
    "    return np.exp(Z)/ sum(np.exp(Z))"
   ]
  },
  {
   "cell_type": "code",
   "execution_count": 10,
   "metadata": {},
   "outputs": [],
   "source": [
    "def one_hot_encode(Y):\n",
    "    # an array of zeros with size of how many training examples for rows and 10 for how many columns [one for each digit]\n",
    "    one_hot_encoded = np.zeros((Y.size,Y.max()+1))\n",
    "    # np.arange(Y.size) is the number of training examples for which row, and Y is the column for that specific digit \n",
    "    one_hot_encoded[np.arange(Y.size), Y] = 1\n",
    "    return one_hot_encoded.T"
   ]
  },
  {
   "cell_type": "code",
   "execution_count": 11,
   "metadata": {},
   "outputs": [],
   "source": [
    "def forward_propagation(W1,b1,W2,b2,X):\n",
    "    A0 = X\n",
    "    #calculate unactivated first layer Z1 = W1 . A0 + b1\n",
    "    Z1 = W1.dot(A0) + b1\n",
    "    # apply activation function Relu to Z1. A1 = Relu(Z1)\n",
    "    A1 = rectified_linear_unit(Z1)\n",
    "    #calculate unactivated second layer Z2 = W2. A1 + b2\n",
    "    Z2 = W2.dot(A1) + b2\n",
    "    # apply activation function softmax to Z2 to get the probabilities. A2 = softmax(Z2)    \n",
    "    A2 = softmax(Z2)\n",
    "    return Z1, A1, Z2, A2\n"
   ]
  },
  {
   "cell_type": "code",
   "execution_count": 12,
   "metadata": {},
   "outputs": [],
   "source": [
    "def back_propagation(Z1,A1,A2,W2,X,Y):\n",
    "    m = Y.size\n",
    "    # hot encode Y\n",
    "    hot_Y = one_hot_encode(Y)\n",
    "    # calculate the error in 2nd layer (the prediction vs the real value)\n",
    "    dZ2 = A2 - hot_Y\n",
    "    # calculate derivative of the weights of 2nd layer - how much does it contribute to the error\n",
    "    dW2 = (1/m) * dZ2.dot(A1.T) \n",
    "    # calculate the derivative of the bias of 2nd layer-> average of the absolute error (how much the output was off by)\n",
    "    db2 = (1/m) * np.sum(dZ2)\n",
    "    # calculate the error of the 1st layer based on the 2nd layer [apply weights in reverse]\n",
    "    dZ1 = (W2.T).dot(dZ2) * relu_derivative(Z1) # <- undo activation function\n",
    "    dW1 = (1/m) * dZ1.dot(X.T)\n",
    "    db1 = (1/m) * np.sum(dZ1)\n",
    "    return dW1, db1, dW2, db2\n"
   ]
  },
  {
   "cell_type": "code",
   "execution_count": 13,
   "metadata": {},
   "outputs": [],
   "source": [
    "def update_params(W1,b1,W2,b2,dW1,db1,dW2,db2,alpha):\n",
    "    # update W1, b1, W2, b2 based on learning rate\n",
    "    return (W1 - alpha * dW1), (b1 - alpha * db1), (W2 - alpha * dW2), (b2 - alpha * db2)"
   ]
  },
  {
   "cell_type": "code",
   "execution_count": 14,
   "metadata": {},
   "outputs": [],
   "source": [
    "def get_predictions(A2):\n",
    "    # return the index of the maximum probability\n",
    "    return np.argmax(A2,0)"
   ]
  },
  {
   "cell_type": "code",
   "execution_count": 15,
   "metadata": {},
   "outputs": [],
   "source": [
    "def get_accuracy(predictions,Y):\n",
    "    # sum the predictions that are equal to the real value and get % of\n",
    "    return np.sum(predictions==Y) / Y.size"
   ]
  },
  {
   "cell_type": "code",
   "execution_count": 45,
   "metadata": {},
   "outputs": [],
   "source": [
    "def gradient_decent(X, Y, iters, alpha):\n",
    "    digits = 10\n",
    "    W1,b1,W2,b2 = init_params(digits,n-1)\n",
    "    plot_x = []\n",
    "    plot_y = []\n",
    "    for i in range(iters+1):\n",
    "        Z1, A1, Z2, A2 = forward_propagation(W1,b1,W2,b2,X)\n",
    "        dW1, db1, dW2, db2 = back_propagation(Z1,A1,A2,W2,X,Y)\n",
    "        W1, b1, W2, b2 =  update_params(W1,b1,W2,b2,dW1,db1,dW2,db2,alpha)\n",
    "        if i % 20 == 0:\n",
    "            acc = get_accuracy(get_predictions(A2),Y)\n",
    "            print('iteration #', i, ', Accuracy:', round(acc*100,2),'%')\n",
    "            plot_x.append(i)\n",
    "            plot_y.append(acc)\n",
    "    plt.plot(plot_x,plot_y)\n",
    "    plt.gca().set_xlabel('iteration#')\n",
    "    plt.gca().set_ylabel('% accuracy')      \n",
    "    return W1, b1, W2, b2"
   ]
  },
  {
   "cell_type": "code",
   "execution_count": 46,
   "metadata": {},
   "outputs": [
    {
     "name": "stdout",
     "output_type": "stream",
     "text": [
      "iteration # 0 , Accuracy: 8.89 %\n",
      "iteration # 20 , Accuracy: 29.75 %\n",
      "iteration # 40 , Accuracy: 45.54 %\n",
      "iteration # 60 , Accuracy: 56.7 %\n",
      "iteration # 80 , Accuracy: 64.0 %\n",
      "iteration # 100 , Accuracy: 68.56 %\n",
      "iteration # 120 , Accuracy: 71.64 %\n",
      "iteration # 140 , Accuracy: 73.86 %\n",
      "iteration # 160 , Accuracy: 75.44 %\n",
      "iteration # 180 , Accuracy: 76.64 %\n",
      "iteration # 200 , Accuracy: 77.68 %\n",
      "iteration # 220 , Accuracy: 78.68 %\n",
      "iteration # 240 , Accuracy: 79.44 %\n",
      "iteration # 260 , Accuracy: 80.12 %\n",
      "iteration # 280 , Accuracy: 80.73 %\n",
      "iteration # 300 , Accuracy: 81.26 %\n",
      "iteration # 320 , Accuracy: 81.73 %\n",
      "iteration # 340 , Accuracy: 82.15 %\n",
      "iteration # 360 , Accuracy: 82.49 %\n",
      "iteration # 380 , Accuracy: 82.89 %\n",
      "iteration # 400 , Accuracy: 83.23 %\n",
      "iteration # 420 , Accuracy: 83.55 %\n",
      "iteration # 440 , Accuracy: 83.81 %\n",
      "iteration # 460 , Accuracy: 84.08 %\n",
      "iteration # 480 , Accuracy: 84.34 %\n",
      "iteration # 500 , Accuracy: 84.59 %\n"
     ]
    },
    {
     "data": {
      "image/png": "[encoded data removed]",
      "text/plain": [
       "<Figure size 432x288 with 1 Axes>"
      ]
     },
     "metadata": {
      "needs_background": "light"
     },
     "output_type": "display_data"
    }
   ],
   "source": [
    "iters = 500\n",
    "alpha = 0.1\n",
    "W1, b1, W2, b2 = gradient_decent(x_train, y_train, iters, alpha)"
   ]
  }
 ],
 "metadata": {
  "interpreter": {
   "hash": "f46a25d2ee2cf42d8b5967fa87ecb381310ee627e58dce25c5456af41f27dd69"
  },
  "kernelspec": {
   "display_name": "Python 3.8.3 ('base')",
   "language": "python",
   "name": "python3"
  },
  "language_info": {
   "codemirror_mode": {
    "name": "ipython",
    "version": 3
   },
   "file_extension": ".py",
   "mimetype": "text/x-python",
   "name": "python",
   "nbconvert_exporter": "python",
   "pygments_lexer": "ipython3",
   "version": "3.8.3"
  },
  "orig_nbformat": 4
 },
 "nbformat": 4,
 "nbformat_minor": 2
}
